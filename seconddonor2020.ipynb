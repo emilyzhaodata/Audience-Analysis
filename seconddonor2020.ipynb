{
 "cells": [
  {
   "cell_type": "code",
   "execution_count": 1,
   "metadata": {},
   "outputs": [],
   "source": [
    "import pandas as pd\n",
    "import numpy as np\n",
    "path = 'Donor2020.xlsx'\n",
    "df = pd.read_excel(open(path, 'rb'))"
   ]
  },
  {
   "cell_type": "code",
   "execution_count": 2,
   "metadata": {},
   "outputs": [
    {
     "data": {
      "text/plain": [
       "(40814, 83)"
      ]
     },
     "execution_count": 2,
     "metadata": {},
     "output_type": "execute_result"
    }
   ],
   "source": [
    "df.shape"
   ]
  },
  {
   "cell_type": "code",
   "execution_count": 3,
   "metadata": {},
   "outputs": [],
   "source": [
    "df_tag_list = df.tag_list.str.split(',')"
   ]
  },
  {
   "cell_type": "code",
   "execution_count": 4,
   "metadata": {},
   "outputs": [
    {
     "data": {
      "text/plain": [
       "0                                     [CASS: Standardized]\n",
       "1        [CASS: Standardized, Income: $75000 - $99999, ...\n",
       "2        [CASS: Standardized, EstWealth: Greater than $...\n",
       "3                                     [CASS: Standardized]\n",
       "4        [CASS: Standardized, MedHomeValue: $350000 - $...\n",
       "                               ...                        \n",
       "40809                                 [CASS: Standardized]\n",
       "40810    [CASS: Standardized, EstWealth: $250000 - $499...\n",
       "40811    [CASS: Standardized, EstWealth: Greater than $...\n",
       "40812    [CASS: Standardized, EstWealth: Greater than $...\n",
       "40813                                 [CASS: Standardized]\n",
       "Name: tag_list, Length: 40814, dtype: object"
      ]
     },
     "execution_count": 4,
     "metadata": {},
     "output_type": "execute_result"
    }
   ],
   "source": [
    "df_tag_colon = df_tag_list.apply(lambda x: [c.strip() for c in x if ':' in c])\n",
    "df_tag_colon"
   ]
  },
  {
   "cell_type": "code",
   "execution_count": 5,
   "metadata": {},
   "outputs": [
    {
     "data": {
      "text/plain": [
       "0                                                       []\n",
       "1        [donor, librarian, loc, petition, carla hayden...\n",
       "2        [school libraries petition, school library sup...\n",
       "3        [rsvp, donor, one time donor, alamw16, fundrai...\n",
       "4        [librarian, petition, dogooder, federal, child...\n",
       "                               ...                        \n",
       "40809     [petition, email to politicians, dogooder, nses]\n",
       "40810    [donor, fundraiser, librarian, tickets purchas...\n",
       "40811    [petition, dogooder, njla 2019, childrenpresen...\n",
       "40812    [petition, dogooder, njla 2019, childrenpresen...\n",
       "40813    [librarian, john's list, iowa 2019 training, n...\n",
       "Name: tag_list, Length: 40814, dtype: object"
      ]
     },
     "execution_count": 5,
     "metadata": {},
     "output_type": "execute_result"
    }
   ],
   "source": [
    "df_tag_rest = df_tag_list.apply(lambda x: [c.strip().lower() for c in x if ':' not in c])\n",
    "df_tag_rest"
   ]
  },
  {
   "cell_type": "code",
   "execution_count": 6,
   "metadata": {},
   "outputs": [],
   "source": [
    "import itertools\n",
    "tags_with_colon = set(itertools.chain.from_iterable(df_tag_colon))"
   ]
  },
  {
   "cell_type": "code",
   "execution_count": 7,
   "metadata": {},
   "outputs": [],
   "source": [
    "info_tags = ['EstWealth', 'Ethnicity', 'Income', 'Residence', 'School', 'MedHomeValue']"
   ]
  },
  {
   "cell_type": "code",
   "execution_count": 8,
   "metadata": {},
   "outputs": [],
   "source": [
    "def get_column(l, info):\n",
    "    l_info = [c for c in l if info in c]\n",
    "    if len(l_info) > 0:\n",
    "        return l_info[0].split(':')[1].strip()\n",
    "    return ''\n",
    "        \n",
    "for info in info_tags:\n",
    "    df[info] = df_tag_colon.apply(get_column, args=(info,))"
   ]
  },
  {
   "cell_type": "code",
   "execution_count": 9,
   "metadata": {},
   "outputs": [],
   "source": [
    "df_X = df[info_tags].copy()"
   ]
  },
  {
   "cell_type": "code",
   "execution_count": 10,
   "metadata": {},
   "outputs": [],
   "source": [
    "def to_num(x):\n",
    "    num = ''.join([c for c in list(x.split('-')[0]) if c.isdigit()])\n",
    "    try:\n",
    "        return float(num)\n",
    "    except:\n",
    "        return np.nan\n",
    "    \n",
    "to_num_list = ['EstWealth', 'Income', 'MedHomeValue']\n",
    "for col in to_num_list:\n",
    "    df_X[col] = df_X[col].apply(to_num)"
   ]
  },
  {
   "cell_type": "code",
   "execution_count": 11,
   "metadata": {},
   "outputs": [
    {
     "data": {
      "text/plain": [
       "array([False,  True, False, ..., False, False, False])"
      ]
     },
     "execution_count": 11,
     "metadata": {},
     "output_type": "execute_result"
    }
   ],
   "source": [
    "y = df.is_donor.values\n",
    "y"
   ]
  },
  {
   "cell_type": "code",
   "execution_count": 12,
   "metadata": {},
   "outputs": [],
   "source": [
    "from sklearn.preprocessing import LabelEncoder\n",
    "le = LabelEncoder()\n",
    "label_list = ['Ethnicity', 'Residence']\n",
    "for col in label_list:\n",
    "    df_X[col] = le.fit_transform(df_X[col])"
   ]
  },
  {
   "cell_type": "code",
   "execution_count": 13,
   "metadata": {},
   "outputs": [
    {
     "data": {
      "text/plain": [
       "                                 27430\n",
       "Completed College                 5584\n",
       "Completed High School             4306\n",
       "Completed Graduate School         3336\n",
       "Attended Vocational/Technical      158\n",
       "Name: School, dtype: int64"
      ]
     },
     "execution_count": 13,
     "metadata": {},
     "output_type": "execute_result"
    }
   ],
   "source": [
    "df_X.School.value_counts()"
   ]
  },
  {
   "cell_type": "code",
   "execution_count": 14,
   "metadata": {},
   "outputs": [],
   "source": [
    "school_dict = {'Completed College': 3,\n",
    "               'Completed High School': 2, \n",
    "               'Completed Graduate School': 4,\n",
    "               'Attended Vocational/Technical': 1,\n",
    "               '': None}\n",
    "df_X.School = df_X.School.apply(lambda x: school_dict[x])"
   ]
  },
  {
   "cell_type": "code",
   "execution_count": 15,
   "metadata": {},
   "outputs": [],
   "source": [
    "X = df_X.values\n",
    "Xy = np.hstack([X, y.reshape(-1,1)])"
   ]
  },
  {
   "cell_type": "code",
   "execution_count": 33,
   "metadata": {},
   "outputs": [
    {
     "data": {
      "text/html": [
       "<div>\n",
       "<style scoped>\n",
       "    .dataframe tbody tr th:only-of-type {\n",
       "        vertical-align: middle;\n",
       "    }\n",
       "\n",
       "    .dataframe tbody tr th {\n",
       "        vertical-align: top;\n",
       "    }\n",
       "\n",
       "    .dataframe thead th {\n",
       "        text-align: right;\n",
       "    }\n",
       "</style>\n",
       "<table border=\"1\" class=\"dataframe\">\n",
       "  <thead>\n",
       "    <tr style=\"text-align: right;\">\n",
       "      <th></th>\n",
       "      <th>EstWealth</th>\n",
       "      <th>Ethnicity</th>\n",
       "      <th>Income</th>\n",
       "      <th>Residence</th>\n",
       "      <th>School</th>\n",
       "      <th>MedHomeValue</th>\n",
       "      <th>y</th>\n",
       "    </tr>\n",
       "  </thead>\n",
       "  <tbody>\n",
       "    <tr>\n",
       "      <th>EstWealth</th>\n",
       "      <td>1.000000</td>\n",
       "      <td>0.066626</td>\n",
       "      <td>0.626236</td>\n",
       "      <td>0.072770</td>\n",
       "      <td>0.224833</td>\n",
       "      <td>0.601388</td>\n",
       "      <td>0.002226</td>\n",
       "    </tr>\n",
       "    <tr>\n",
       "      <th>Ethnicity</th>\n",
       "      <td>0.066626</td>\n",
       "      <td>1.000000</td>\n",
       "      <td>0.060026</td>\n",
       "      <td>0.537630</td>\n",
       "      <td>0.027739</td>\n",
       "      <td>0.053749</td>\n",
       "      <td>0.003599</td>\n",
       "    </tr>\n",
       "    <tr>\n",
       "      <th>Income</th>\n",
       "      <td>0.626236</td>\n",
       "      <td>0.060026</td>\n",
       "      <td>1.000000</td>\n",
       "      <td>0.077633</td>\n",
       "      <td>0.196115</td>\n",
       "      <td>0.571999</td>\n",
       "      <td>0.019455</td>\n",
       "    </tr>\n",
       "    <tr>\n",
       "      <th>Residence</th>\n",
       "      <td>0.072770</td>\n",
       "      <td>0.537630</td>\n",
       "      <td>0.077633</td>\n",
       "      <td>1.000000</td>\n",
       "      <td>0.008408</td>\n",
       "      <td>0.042049</td>\n",
       "      <td>-0.015958</td>\n",
       "    </tr>\n",
       "    <tr>\n",
       "      <th>School</th>\n",
       "      <td>0.224833</td>\n",
       "      <td>0.027739</td>\n",
       "      <td>0.196115</td>\n",
       "      <td>0.008408</td>\n",
       "      <td>1.000000</td>\n",
       "      <td>0.179481</td>\n",
       "      <td>0.011749</td>\n",
       "    </tr>\n",
       "    <tr>\n",
       "      <th>MedHomeValue</th>\n",
       "      <td>0.601388</td>\n",
       "      <td>0.053749</td>\n",
       "      <td>0.571999</td>\n",
       "      <td>0.042049</td>\n",
       "      <td>0.179481</td>\n",
       "      <td>1.000000</td>\n",
       "      <td>0.042471</td>\n",
       "    </tr>\n",
       "    <tr>\n",
       "      <th>y</th>\n",
       "      <td>0.002226</td>\n",
       "      <td>0.003599</td>\n",
       "      <td>0.019455</td>\n",
       "      <td>-0.015958</td>\n",
       "      <td>0.011749</td>\n",
       "      <td>0.042471</td>\n",
       "      <td>1.000000</td>\n",
       "    </tr>\n",
       "  </tbody>\n",
       "</table>\n",
       "</div>"
      ],
      "text/plain": [
       "              EstWealth  Ethnicity    Income  Residence    School  \\\n",
       "EstWealth      1.000000   0.066626  0.626236   0.072770  0.224833   \n",
       "Ethnicity      0.066626   1.000000  0.060026   0.537630  0.027739   \n",
       "Income         0.626236   0.060026  1.000000   0.077633  0.196115   \n",
       "Residence      0.072770   0.537630  0.077633   1.000000  0.008408   \n",
       "School         0.224833   0.027739  0.196115   0.008408  1.000000   \n",
       "MedHomeValue   0.601388   0.053749  0.571999   0.042049  0.179481   \n",
       "y              0.002226   0.003599  0.019455  -0.015958  0.011749   \n",
       "\n",
       "              MedHomeValue         y  \n",
       "EstWealth         0.601388  0.002226  \n",
       "Ethnicity         0.053749  0.003599  \n",
       "Income            0.571999  0.019455  \n",
       "Residence         0.042049 -0.015958  \n",
       "School            0.179481  0.011749  \n",
       "MedHomeValue      1.000000  0.042471  \n",
       "y                 0.042471  1.000000  "
      ]
     },
     "execution_count": 33,
     "metadata": {},
     "output_type": "execute_result"
    }
   ],
   "source": [
    "df_Xy = pd.DataFrame(Xy, columns=info_tags + ['y'])\n",
    "df_Xy.corr()"
   ]
  },
  {
   "cell_type": "code",
   "execution_count": 40,
   "metadata": {},
   "outputs": [
    {
     "data": {
      "text/html": [
       "<div>\n",
       "<style scoped>\n",
       "    .dataframe tbody tr th:only-of-type {\n",
       "        vertical-align: middle;\n",
       "    }\n",
       "\n",
       "    .dataframe tbody tr th {\n",
       "        vertical-align: top;\n",
       "    }\n",
       "\n",
       "    .dataframe thead th {\n",
       "        text-align: right;\n",
       "    }\n",
       "</style>\n",
       "<table border=\"1\" class=\"dataframe\">\n",
       "  <thead>\n",
       "    <tr style=\"text-align: right;\">\n",
       "      <th></th>\n",
       "      <th>EstWealth</th>\n",
       "      <th>Ethnicity</th>\n",
       "      <th>Income</th>\n",
       "      <th>Residence</th>\n",
       "      <th>School</th>\n",
       "      <th>MedHomeValue</th>\n",
       "      <th>y</th>\n",
       "    </tr>\n",
       "  </thead>\n",
       "  <tbody>\n",
       "    <tr>\n",
       "      <th>EstWealth</th>\n",
       "      <td>1.000000</td>\n",
       "      <td>0.084558</td>\n",
       "      <td>0.591233</td>\n",
       "      <td>0.032827</td>\n",
       "      <td>0.214264</td>\n",
       "      <td>0.605796</td>\n",
       "      <td>0.014624</td>\n",
       "    </tr>\n",
       "    <tr>\n",
       "      <th>Ethnicity</th>\n",
       "      <td>0.084558</td>\n",
       "      <td>1.000000</td>\n",
       "      <td>0.067186</td>\n",
       "      <td>-0.004538</td>\n",
       "      <td>0.030996</td>\n",
       "      <td>0.055376</td>\n",
       "      <td>0.039811</td>\n",
       "    </tr>\n",
       "    <tr>\n",
       "      <th>Income</th>\n",
       "      <td>0.591233</td>\n",
       "      <td>0.067186</td>\n",
       "      <td>1.000000</td>\n",
       "      <td>0.036087</td>\n",
       "      <td>0.185278</td>\n",
       "      <td>0.593855</td>\n",
       "      <td>0.039351</td>\n",
       "    </tr>\n",
       "    <tr>\n",
       "      <th>Residence</th>\n",
       "      <td>0.032827</td>\n",
       "      <td>-0.004538</td>\n",
       "      <td>0.036087</td>\n",
       "      <td>1.000000</td>\n",
       "      <td>0.007255</td>\n",
       "      <td>0.026157</td>\n",
       "      <td>0.022450</td>\n",
       "    </tr>\n",
       "    <tr>\n",
       "      <th>School</th>\n",
       "      <td>0.214264</td>\n",
       "      <td>0.030996</td>\n",
       "      <td>0.185278</td>\n",
       "      <td>0.007255</td>\n",
       "      <td>1.000000</td>\n",
       "      <td>0.178859</td>\n",
       "      <td>0.010649</td>\n",
       "    </tr>\n",
       "    <tr>\n",
       "      <th>MedHomeValue</th>\n",
       "      <td>0.605796</td>\n",
       "      <td>0.055376</td>\n",
       "      <td>0.593855</td>\n",
       "      <td>0.026157</td>\n",
       "      <td>0.178859</td>\n",
       "      <td>1.000000</td>\n",
       "      <td>0.032508</td>\n",
       "    </tr>\n",
       "    <tr>\n",
       "      <th>y</th>\n",
       "      <td>0.014624</td>\n",
       "      <td>0.039811</td>\n",
       "      <td>0.039351</td>\n",
       "      <td>0.022450</td>\n",
       "      <td>0.010649</td>\n",
       "      <td>0.032508</td>\n",
       "      <td>1.000000</td>\n",
       "    </tr>\n",
       "  </tbody>\n",
       "</table>\n",
       "</div>"
      ],
      "text/plain": [
       "              EstWealth  Ethnicity    Income  Residence    School  \\\n",
       "EstWealth      1.000000   0.084558  0.591233   0.032827  0.214264   \n",
       "Ethnicity      0.084558   1.000000  0.067186  -0.004538  0.030996   \n",
       "Income         0.591233   0.067186  1.000000   0.036087  0.185278   \n",
       "Residence      0.032827  -0.004538  0.036087   1.000000  0.007255   \n",
       "School         0.214264   0.030996  0.185278   0.007255  1.000000   \n",
       "MedHomeValue   0.605796   0.055376  0.593855   0.026157  0.178859   \n",
       "y              0.014624   0.039811  0.039351   0.022450  0.010649   \n",
       "\n",
       "              MedHomeValue         y  \n",
       "EstWealth         0.605796  0.014624  \n",
       "Ethnicity         0.055376  0.039811  \n",
       "Income            0.593855  0.039351  \n",
       "Residence         0.026157  0.022450  \n",
       "School            0.178859  0.010649  \n",
       "MedHomeValue      1.000000  0.032508  \n",
       "y                 0.032508  1.000000  "
      ]
     },
     "execution_count": 40,
     "metadata": {},
     "output_type": "execute_result"
    }
   ],
   "source": [
    "df_Xy_clean = df_Xy.dropna()\n",
    "df_Xy_clean.corr()"
   ]
  },
  {
   "cell_type": "code",
   "execution_count": 41,
   "metadata": {},
   "outputs": [],
   "source": [
    "X = df_Xy_clean.drop('y', axis=1).values\n",
    "y = df_Xy_clean.y.values"
   ]
  },
  {
   "cell_type": "code",
   "execution_count": 42,
   "metadata": {},
   "outputs": [
    {
     "name": "stderr",
     "output_type": "stream",
     "text": [
      "/anaconda3/lib/python3.7/site-packages/sklearn/linear_model/logistic.py:432: FutureWarning: Default solver will be changed to 'lbfgs' in 0.22. Specify a solver to silence this warning.\n",
      "  FutureWarning)\n"
     ]
    },
    {
     "data": {
      "text/plain": [
       "LogisticRegression(C=1.0, class_weight=None, dual=False, fit_intercept=True,\n",
       "                   intercept_scaling=1, l1_ratio=None, max_iter=100,\n",
       "                   multi_class='warn', n_jobs=None, penalty='l2',\n",
       "                   random_state=None, solver='warn', tol=0.0001, verbose=0,\n",
       "                   warm_start=False)"
      ]
     },
     "execution_count": 42,
     "metadata": {},
     "output_type": "execute_result"
    }
   ],
   "source": [
    "from sklearn.linear_model import LogisticRegression\n",
    "lr = LogisticRegression()\n",
    "lr.fit(X, y)"
   ]
  },
  {
   "cell_type": "code",
   "execution_count": 43,
   "metadata": {},
   "outputs": [],
   "source": [
    "y_pred = lr.predict(X)"
   ]
  },
  {
   "cell_type": "code",
   "execution_count": 48,
   "metadata": {},
   "outputs": [],
   "source": [
    "from sklearn.metrics import accuracy_score\n",
    "acc = accuracy_score(y, y_pred)"
   ]
  },
  {
   "cell_type": "code",
   "execution_count": 49,
   "metadata": {},
   "outputs": [
    {
     "data": {
      "text/plain": [
       "0.9547558738754477"
      ]
     },
     "execution_count": 49,
     "metadata": {},
     "output_type": "execute_result"
    }
   ],
   "source": [
    "acc"
   ]
  },
  {
   "cell_type": "code",
   "execution_count": 50,
   "metadata": {},
   "outputs": [],
   "source": [
    "from sklearn.model_selection import cross_val_score"
   ]
  },
  {
   "cell_type": "code",
   "execution_count": 53,
   "metadata": {},
   "outputs": [
    {
     "name": "stderr",
     "output_type": "stream",
     "text": [
      "/anaconda3/lib/python3.7/site-packages/sklearn/linear_model/logistic.py:432: FutureWarning: Default solver will be changed to 'lbfgs' in 0.22. Specify a solver to silence this warning.\n",
      "  FutureWarning)\n",
      "/anaconda3/lib/python3.7/site-packages/sklearn/linear_model/logistic.py:432: FutureWarning: Default solver will be changed to 'lbfgs' in 0.22. Specify a solver to silence this warning.\n",
      "  FutureWarning)\n",
      "/anaconda3/lib/python3.7/site-packages/sklearn/linear_model/logistic.py:432: FutureWarning: Default solver will be changed to 'lbfgs' in 0.22. Specify a solver to silence this warning.\n",
      "  FutureWarning)\n",
      "/anaconda3/lib/python3.7/site-packages/sklearn/linear_model/logistic.py:432: FutureWarning: Default solver will be changed to 'lbfgs' in 0.22. Specify a solver to silence this warning.\n",
      "  FutureWarning)\n",
      "/anaconda3/lib/python3.7/site-packages/sklearn/linear_model/logistic.py:432: FutureWarning: Default solver will be changed to 'lbfgs' in 0.22. Specify a solver to silence this warning.\n",
      "  FutureWarning)\n"
     ]
    },
    {
     "data": {
      "text/plain": [
       "array([0.95460498, 0.95458515, 0.95458515, 0.95500218, 0.95500218])"
      ]
     },
     "execution_count": 53,
     "metadata": {},
     "output_type": "execute_result"
    }
   ],
   "source": [
    "cross_val_score(lr, X, y, cv=5)"
   ]
  },
  {
   "cell_type": "code",
   "execution_count": null,
   "metadata": {},
   "outputs": [],
   "source": []
  }
 ],
 "metadata": {
  "kernelspec": {
   "display_name": "Python 3",
   "language": "python",
   "name": "python3"
  },
  "language_info": {
   "codemirror_mode": {
    "name": "ipython",
    "version": 3
   },
   "file_extension": ".py",
   "mimetype": "text/x-python",
   "name": "python",
   "nbconvert_exporter": "python",
   "pygments_lexer": "ipython3",
   "version": "3.7.3"
  }
 },
 "nbformat": 4,
 "nbformat_minor": 2
}
